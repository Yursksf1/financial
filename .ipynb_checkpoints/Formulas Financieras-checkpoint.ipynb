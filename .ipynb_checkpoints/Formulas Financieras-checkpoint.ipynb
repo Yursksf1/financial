{
 "cells": [
  {
   "cell_type": "markdown",
   "metadata": {},
   "source": [
    "# FORMULAS FINANCIERAS\n",
    "Este Notebook contiene Formulas para calculos financieros para mejorar el entendimiento de Intereses con programacion en Python \n"
   ]
  },
  {
   "cell_type": "markdown",
   "metadata": {},
   "source": [
    "**Interes:** beneficio que se obtiene de una inversión "
   ]
  },
  {
   "cell_type": "markdown",
   "metadata": {},
   "source": [
    "## Interes Simple\n",
    "- intereses se retiran al vencimiento de cada uno de los periodos\n",
    "- el interés se aplica a la cantidad inicial, los intereses no se agregan al capital productivo."
   ]
  },
  {
   "cell_type": "markdown",
   "metadata": {},
   "source": [
    "#### Formulas\n",
    "\n",
    "**Interes generado**\n",
    "\n",
    "I = P * i * n\n",
    "\n",
    "\n",
    "**Capital Futuro**\n",
    "\n",
    "F = P + I\n",
    "\n",
    "F = P + P * i * n\n",
    "\n",
    "F = P(1 + i * n)\n",
    "\n",
    "\n"
   ]
  },
  {
   "cell_type": "code",
   "execution_count": 95,
   "metadata": {},
   "outputs": [],
   "source": [
    "def capital_futuro(monto_presente, interes, tiempo):\n",
    "    \"\"\"\n",
    "    Calcula el capital_futuro con interes simple\n",
    "    :param monto_presente: Float, capital invertido. Ie, 100000\n",
    "    :param interes: Float, tasa de interes pactada. Ie, 0,10 (dies porciento 10%)\n",
    "    :param tiempo: numero de periodos temporales. Ie, 2 (meses, trimestres, años)\n",
    "    :return monto_futuro, Float Ie, 120000\n",
    "    \"\"\"\n",
    "    \n",
    "    monto_futuro = monto_presente*(1+(interes*tiempo))\n",
    "    return monto_futuro"
   ]
  },
  {
   "cell_type": "code",
   "execution_count": 96,
   "metadata": {},
   "outputs": [
    {
     "data": {
      "text/plain": [
       "120000.0"
      ]
     },
     "execution_count": 96,
     "metadata": {},
     "output_type": "execute_result"
    }
   ],
   "source": [
    "capital_futuro(100000, 0.10, 2)"
   ]
  },
  {
   "cell_type": "code",
   "execution_count": 97,
   "metadata": {},
   "outputs": [],
   "source": [
    "def interes_generado(monto_presente, interes, tiempo):\n",
    "    \"\"\"\n",
    "    Calcula solo los intereses de un prestamo con interes simple\n",
    "    :param monto_presente: Float, capital invertido. Ie, 100000\n",
    "    :param interes: Float, tasa de interes pactada. Ie, 0,10 (dies porciento 10%)\n",
    "    :param tiempo: numero de periodos temporales. Ie, 2 (meses, trimestres, años)\n",
    "    :return pago_en_interes, Float Ie, 20000\n",
    "    \"\"\"\n",
    "    \n",
    "    monto_futuro = capital_futuro(monto_presente, interes, tiempo)\n",
    "    pago_en_interes = monto_futuro - monto_presente\n",
    "    return pago_en_interes"
   ]
  },
  {
   "cell_type": "code",
   "execution_count": 98,
   "metadata": {},
   "outputs": [
    {
     "data": {
      "text/plain": [
       "20000.0"
      ]
     },
     "execution_count": 98,
     "metadata": {},
     "output_type": "execute_result"
    }
   ],
   "source": [
    "interes_generado(100000, 0.10, 2)"
   ]
  },
  {
   "cell_type": "markdown",
   "metadata": {},
   "source": [
    "### EJEMPLO\n",
    "\n",
    "\n",
    "1. Tenemos la oportunidad de invertir 1'000.000 en un negocio, con una rentabilidad del 8% anual  en 5 años,\n",
    "\n",
    "    1.1 Cuanto Recibiré al pasar estos 5 años?\n",
    "    \n",
    "    1.2 Cuanto Ganaré en Inversión?\n",
    "    \n",
    "    1.3 Si solo puedo estar 3 meses cuanto obtendria de rentabilidad?\n",
    "   "
   ]
  },
  {
   "cell_type": "code",
   "execution_count": 122,
   "metadata": {},
   "outputs": [
    {
     "name": "stdout",
     "output_type": "stream",
     "text": [
      "1. Tenemos la oportunidad de invertir 1'000.000 en un negocio, con una rentabilidad del 8% anual en 5 años\n",
      "\n",
      " 1.1 Cuanto Recibiré al pasar estos 5 años? \n",
      "Respuesta: 1400000.0\n",
      "\n",
      " 1.2 Cuanto Ganaré en Inversión? \n",
      "Respuesta: 400000.0\n",
      "\n",
      " 1.3 Si solo puedo estar 3 meses cuanto obtendria de rentabilidad? \n",
      "Respuesta: 20000.0\n"
     ]
    }
   ],
   "source": [
    "capital_a_invertir = 1000000\n",
    "interes = 0.08\n",
    "\n",
    "separador = '''\n",
    "Respuesta: '''\n",
    "\n",
    "primer_enunciado = '''1. Tenemos la oportunidad de invertir 1'000.000 en un negocio, con una rentabilidad del 8% anual en 5 años'''\n",
    "\n",
    "enunciado_1_1 = '''1.1 Cuanto Recibiré al pasar estos 5 años? '''\n",
    "enunciado_1_2 = '''1.2 Cuanto Ganaré en Inversión? '''\n",
    "enunciado_1_3 = '''1.3 Si solo puedo estar 3 meses cuanto obtendria de rentabilidad? '''\n",
    "\n",
    "respuesta_1_1 = capital_futuro(capital_a_invertir, interes, 5)\n",
    "respuesta_1_2 = interes_generado(capital_a_invertir, interes, 5)\n",
    "respuesta_1_3 = interes_generado(capital_a_invertir, interes, 3/12)\n",
    "\n",
    "respuesta_11 = '{}{}{}'.format(enunciado_1_1, separador, respuesta_1_1)\n",
    "respuesta_12 = '{}{}{}'.format(enunciado_1_2, separador, respuesta_1_2)\n",
    "respuesta_13 = '{}{}{}'.format(enunciado_1_3, separador, respuesta_1_3)\n",
    "\n",
    "print(primer_enunciado)\n",
    "print('\\n', respuesta_11)\n",
    "print('\\n', respuesta_12)\n",
    "print('\\n', respuesta_13)\n"
   ]
  },
  {
   "cell_type": "markdown",
   "metadata": {},
   "source": [
    "\n",
    "\n",
    "### Ejemplo de Experiencia Vendiendo Papitas.\n",
    "2. Comprar 1 bolsas de papitas cuesta 1.000 (mil pesos). si puedo vender cada bolsa a 1.500 (mil quinientos)...\n",
    "\n",
    "    2.1 Cuanto Recibire si vendo 50 bolsas?\n",
    "    \n",
    "    2.2 Si puedo vender 50 bolsas cada mes, cuanto recibiré en 3 meses?\n",
    "    \n",
    "    2.3 Si puedo vender 50 bolsas cada mes, cuanto recibiré en 5 años?\n",
    "    \n",
    "    "
   ]
  },
  {
   "cell_type": "code",
   "execution_count": 100,
   "metadata": {},
   "outputs": [
    {
     "name": "stdout",
     "output_type": "stream",
     "text": [
      "Comprar 1 bolsas de papitas cuesta 1.000 (mil pesos). si puedo vender cada bolsa a 1.500 (mil quinientos)...\n",
      "inverti: 50000\n",
      "\n",
      " 2.1 Cuanto Recibire si vendo 50 bolsas? \n",
      "Respuesta: Recibo: 75000.0, Es decir una rentabilidad de: 25000.0\n",
      "\n",
      " 2.2 Si puedo vender 50 bolsas cada mes, cuanto recibiré en 3 meses? \n",
      "Respuesta: Recibo: 125000.0, Es decir una rentabilidad de: 75000.0\n",
      "\n",
      " 2.3 Si puedo vender 50 bolsas cada mes, cuanto recibiré en 5 años? \n",
      "Respuesta: Recibo: 1550000.0, Es decir una rentabilidad de: 1500000.0\n"
     ]
    }
   ],
   "source": [
    "valor_bolsa = 1000\n",
    "valor_de_venta = 1500\n",
    "cantidad = 50\n",
    "\n",
    "interes = (valor_de_venta/valor_bolsa) - 1\n",
    "capital_a_invertir = valor_bolsa * cantidad\n",
    "\n",
    "\n",
    "separador = '''\n",
    "Respuesta: '''\n",
    "\n",
    "primer_enunciado = '''Comprar 1 bolsas de papitas cuesta 1.000 (mil pesos). si puedo vender cada bolsa a 1.500 (mil quinientos)...'''\n",
    "\n",
    "enunciado_1_1 = '''2.1 Cuanto Recibire si vendo 50 bolsas? '''\n",
    "enunciado_1_2 = '''2.2 Si puedo vender 50 bolsas cada mes, cuanto recibiré en 3 meses? '''\n",
    "enunciado_1_3 = '''2.3 Si puedo vender 50 bolsas cada mes, cuanto recibiré en 5 años? '''\n",
    "\n",
    "respuesta_1_1 = 'Recibo: {}, Es decir una rentabilidad de: {}'.format(\n",
    "        capital_futuro(capital_a_invertir, interes, 1),\n",
    "        interes_generado(capital_a_invertir, interes, 1)\n",
    "    )\n",
    "                                       \n",
    "respuesta_1_2 = 'Recibo: {}, Es decir una rentabilidad de: {}'.format(\n",
    "        capital_futuro(capital_a_invertir, interes, 3),\n",
    "        interes_generado(capital_a_invertir, interes, 3)\n",
    "    )\n",
    "\n",
    "respuesta_1_3 = 'Recibo: {}, Es decir una rentabilidad de: {}'.format(\n",
    "        capital_futuro(capital_a_invertir, interes, 5*12),\n",
    "        interes_generado(capital_a_invertir, interes, 5*12)\n",
    "    )\n",
    "\n",
    "respuesta_11 = '{}{}{}'.format(enunciado_1_1, separador, respuesta_1_1)\n",
    "respuesta_12 = '{}{}{}'.format(enunciado_1_2, separador, respuesta_1_2)\n",
    "respuesta_13 = '{}{}{}'.format(enunciado_1_3, separador, respuesta_1_3)\n",
    "\n",
    "print(primer_enunciado)\n",
    "print('inverti: {}'.format(capital_a_invertir))\n",
    "print('\\n', respuesta_11)\n",
    "print('\\n', respuesta_12)\n",
    "print('\\n', respuesta_13)\n",
    "\n"
   ]
  },
  {
   "cell_type": "markdown",
   "metadata": {},
   "source": [
    "\n",
    "#### EJEMPLO PRACTICO CDT\n",
    "    Un ejemplo práctico de interés simple en la vida real los vemos en los CDT, contratos en los que ponemos cierta cantidad de dinero a que gane una tasa de interés conocida con anterioridad. Si el cliente sólo deposita y retira el dinero al finalizar el plazo ganó un interés simple.\n",
    "\n",
    "TODO CHECK TASAS CDT BANCOS:\n",
    "- Bancolombia\n",
    "- Colpatria ScotyBank\n",
    "- Banco de Bogota\n",
    "- Davivienda\n",
    "- Occidente\n",
    "\n",
    "    \n",
    "    "
   ]
  },
  {
   "cell_type": "code",
   "execution_count": null,
   "metadata": {},
   "outputs": [],
   "source": []
  },
  {
   "cell_type": "markdown",
   "metadata": {},
   "source": [
    "## Interes Compuesto"
   ]
  },
  {
   "cell_type": "code",
   "execution_count": 101,
   "metadata": {},
   "outputs": [],
   "source": [
    "def interes_compuesto(monto_presente, interes, tiempo):\n",
    "    monto_futuro = monto_presente*((1+interes)**tiempo)\n",
    "    return monto_futuro"
   ]
  },
  {
   "cell_type": "code",
   "execution_count": 102,
   "metadata": {},
   "outputs": [
    {
     "data": {
      "text/plain": [
       "121000.00000000001"
      ]
     },
     "execution_count": 102,
     "metadata": {},
     "output_type": "execute_result"
    }
   ],
   "source": [
    "interes_compuesto(100000, 0.10, 2)"
   ]
  },
  {
   "cell_type": "code",
   "execution_count": 103,
   "metadata": {},
   "outputs": [],
   "source": [
    "def cuanto_pago_solo_interes_compuesto(monto_presente, interes, tiempo):\n",
    "    monto_futuro = interes_compuesto(monto_presente, interes, tiempo)\n",
    "    pago_en_interes = monto_futuro - monto_presente\n",
    "    return pago_en_interes"
   ]
  },
  {
   "cell_type": "code",
   "execution_count": 104,
   "metadata": {},
   "outputs": [
    {
     "data": {
      "text/plain": [
       "21000.000000000015"
      ]
     },
     "execution_count": 104,
     "metadata": {},
     "output_type": "execute_result"
    }
   ],
   "source": [
    "cuanto_pago_solo_interes_compuesto(100000, 0.10, 2)"
   ]
  },
  {
   "cell_type": "markdown",
   "metadata": {},
   "source": [
    "### Calculemos cuota de minima de pago "
   ]
  },
  {
   "cell_type": "code",
   "execution_count": 105,
   "metadata": {},
   "outputs": [],
   "source": [
    "def pagos_contando_interes(monto_presente, interes, tiempo):\n",
    "    monto_futuro = interes_compuesto(monto_presente, interes, tiempo)\n",
    "    cuota_mensual = monto_futuro/tiempo\n",
    "    return cuota_mensual\n"
   ]
  },
  {
   "cell_type": "code",
   "execution_count": 106,
   "metadata": {},
   "outputs": [
    {
     "data": {
      "text/plain": [
       "60500.00000000001"
      ]
     },
     "execution_count": 106,
     "metadata": {},
     "output_type": "execute_result"
    }
   ],
   "source": [
    "pagos_contando_interes(100000, 0.10, 2)"
   ]
  },
  {
   "cell_type": "code",
   "execution_count": 107,
   "metadata": {},
   "outputs": [],
   "source": [
    "def cuota_sin_contar_interes(monto_presente, tiempo):\n",
    "    cuota_mensual = monto_presente/tiempo\n",
    "    return cuota_mensual\n"
   ]
  },
  {
   "cell_type": "code",
   "execution_count": 108,
   "metadata": {},
   "outputs": [],
   "source": [
    "def format_money_decimals(value, number_decimals=2):\n",
    "    \"\"\"\n",
    "    Format a value with decimals to currency.\n",
    "    :param value: numeric, The value to format\n",
    "    :param number_decimals: int, The number of decimals of final the value.\n",
    "    :return: str, the formatted value. Ie. \"$1,200.50\"\n",
    "    \"\"\"\n",
    "    format_string = \"${:,.\" + str(number_decimals) + \"f}\"\n",
    "    return format_string.format(value)"
   ]
  },
  {
   "cell_type": "code",
   "execution_count": 109,
   "metadata": {},
   "outputs": [],
   "source": [
    "monto_presente = 5236000\n",
    "tiempo = 36\n",
    "interes = 2.16/100"
   ]
  },
  {
   "cell_type": "code",
   "execution_count": 110,
   "metadata": {},
   "outputs": [
    {
     "data": {
      "text/plain": [
       "145444.44444444444"
      ]
     },
     "execution_count": 110,
     "metadata": {},
     "output_type": "execute_result"
    }
   ],
   "source": [
    "cuota_sin_contar_interes(monto_presente, tiempo)"
   ]
  },
  {
   "cell_type": "code",
   "execution_count": 111,
   "metadata": {},
   "outputs": [],
   "source": [
    "def amortizacion(monto_presente, interes, tiempo, imprime=False):\n",
    "    matriz_amortizacion = [\n",
    "        'preiodo',\n",
    "        'Deuda inicial',\n",
    "        'Tasa interes',\n",
    "        'Monto intereses',\n",
    "        'pago Amortizacion', \n",
    "        'Pago', \n",
    "        'Deuda final'\n",
    "    ]\n",
    "    if imprime:\n",
    "        print('\\t'.join(matriz_amortizacion))\n",
    "    \n",
    "    pago_total_interes = 0\n",
    "    amortizacion = cuota_sin_contar_interes(monto_presente, tiempo)\n",
    "    tasa_interes = interes\n",
    "    deuda_final = monto_presente\n",
    "    for i in range(tiempo):\n",
    "        periodo = i\n",
    "        deuda_inicial = deuda_final \n",
    "        monto_intereses = deuda_inicial * tasa_interes\n",
    "        pago = amortizacion + monto_intereses \n",
    "        deuda_final = deuda_inicial + monto_intereses - pago\n",
    "        \n",
    "        if imprime:\n",
    "            matriz_amortizacion = [\n",
    "                str(periodo),\n",
    "                format_money_decimals(deuda_inicial),\n",
    "                str(tasa_interes*100),\n",
    "                format_money_decimals(monto_intereses),\n",
    "                format_money_decimals(amortizacion),\n",
    "                format_money_decimals(pago),\n",
    "                format_money_decimals(deuda_final)\n",
    "            ]\n",
    "            print('\\t'.join(matriz_amortizacion))\n",
    "        pago_total_interes = pago_total_interes + monto_intereses\n",
    "    return pago_total_interes"
   ]
  },
  {
   "cell_type": "code",
   "execution_count": 112,
   "metadata": {},
   "outputs": [
    {
     "name": "stdout",
     "output_type": "stream",
     "text": [
      "preiodo\tDeuda inicial\tTasa interes\tMonto intereses\tpago Amortizacion\tPago\tDeuda final\n",
      "0\t$5,236,000.00\t2.16\t$113,097.60\t$145,444.44\t$258,542.04\t$5,090,555.56\n",
      "1\t$5,090,555.56\t2.16\t$109,956.00\t$145,444.44\t$255,400.44\t$4,945,111.11\n",
      "2\t$4,945,111.11\t2.16\t$106,814.40\t$145,444.44\t$252,258.84\t$4,799,666.67\n",
      "3\t$4,799,666.67\t2.16\t$103,672.80\t$145,444.44\t$249,117.24\t$4,654,222.22\n",
      "4\t$4,654,222.22\t2.16\t$100,531.20\t$145,444.44\t$245,975.64\t$4,508,777.78\n",
      "5\t$4,508,777.78\t2.16\t$97,389.60\t$145,444.44\t$242,834.04\t$4,363,333.33\n",
      "6\t$4,363,333.33\t2.16\t$94,248.00\t$145,444.44\t$239,692.44\t$4,217,888.89\n",
      "7\t$4,217,888.89\t2.16\t$91,106.40\t$145,444.44\t$236,550.84\t$4,072,444.44\n",
      "8\t$4,072,444.44\t2.16\t$87,964.80\t$145,444.44\t$233,409.24\t$3,927,000.00\n",
      "9\t$3,927,000.00\t2.16\t$84,823.20\t$145,444.44\t$230,267.64\t$3,781,555.56\n",
      "10\t$3,781,555.56\t2.16\t$81,681.60\t$145,444.44\t$227,126.04\t$3,636,111.11\n",
      "11\t$3,636,111.11\t2.16\t$78,540.00\t$145,444.44\t$223,984.44\t$3,490,666.67\n",
      "12\t$3,490,666.67\t2.16\t$75,398.40\t$145,444.44\t$220,842.84\t$3,345,222.22\n",
      "13\t$3,345,222.22\t2.16\t$72,256.80\t$145,444.44\t$217,701.24\t$3,199,777.78\n",
      "14\t$3,199,777.78\t2.16\t$69,115.20\t$145,444.44\t$214,559.64\t$3,054,333.33\n",
      "15\t$3,054,333.33\t2.16\t$65,973.60\t$145,444.44\t$211,418.04\t$2,908,888.89\n",
      "16\t$2,908,888.89\t2.16\t$62,832.00\t$145,444.44\t$208,276.44\t$2,763,444.44\n",
      "17\t$2,763,444.44\t2.16\t$59,690.40\t$145,444.44\t$205,134.84\t$2,618,000.00\n",
      "18\t$2,618,000.00\t2.16\t$56,548.80\t$145,444.44\t$201,993.24\t$2,472,555.56\n",
      "19\t$2,472,555.56\t2.16\t$53,407.20\t$145,444.44\t$198,851.64\t$2,327,111.11\n",
      "20\t$2,327,111.11\t2.16\t$50,265.60\t$145,444.44\t$195,710.04\t$2,181,666.67\n",
      "21\t$2,181,666.67\t2.16\t$47,124.00\t$145,444.44\t$192,568.44\t$2,036,222.22\n",
      "22\t$2,036,222.22\t2.16\t$43,982.40\t$145,444.44\t$189,426.84\t$1,890,777.78\n",
      "23\t$1,890,777.78\t2.16\t$40,840.80\t$145,444.44\t$186,285.24\t$1,745,333.33\n",
      "24\t$1,745,333.33\t2.16\t$37,699.20\t$145,444.44\t$183,143.64\t$1,599,888.89\n",
      "25\t$1,599,888.89\t2.16\t$34,557.60\t$145,444.44\t$180,002.04\t$1,454,444.44\n",
      "26\t$1,454,444.44\t2.16\t$31,416.00\t$145,444.44\t$176,860.44\t$1,309,000.00\n",
      "27\t$1,309,000.00\t2.16\t$28,274.40\t$145,444.44\t$173,718.84\t$1,163,555.56\n",
      "28\t$1,163,555.56\t2.16\t$25,132.80\t$145,444.44\t$170,577.24\t$1,018,111.11\n",
      "29\t$1,018,111.11\t2.16\t$21,991.20\t$145,444.44\t$167,435.64\t$872,666.67\n",
      "30\t$872,666.67\t2.16\t$18,849.60\t$145,444.44\t$164,294.04\t$727,222.22\n",
      "31\t$727,222.22\t2.16\t$15,708.00\t$145,444.44\t$161,152.44\t$581,777.78\n",
      "32\t$581,777.78\t2.16\t$12,566.40\t$145,444.44\t$158,010.84\t$436,333.33\n",
      "33\t$436,333.33\t2.16\t$9,424.80\t$145,444.44\t$154,869.24\t$290,888.89\n",
      "34\t$290,888.89\t2.16\t$6,283.20\t$145,444.44\t$151,727.64\t$145,444.44\n",
      "35\t$145,444.44\t2.16\t$3,141.60\t$145,444.44\t$148,586.04\t$0.00\n"
     ]
    },
    {
     "data": {
      "text/plain": [
       "2092305.6"
      ]
     },
     "execution_count": 112,
     "metadata": {},
     "output_type": "execute_result"
    }
   ],
   "source": [
    "amortizacion(monto_presente, interes, tiempo, imprime=True)"
   ]
  },
  {
   "cell_type": "code",
   "execution_count": 113,
   "metadata": {},
   "outputs": [
    {
     "name": "stdout",
     "output_type": "stream",
     "text": [
      "$11,300,859.38\n"
     ]
    }
   ],
   "source": [
    "pago_total = interes_compuesto(monto_presente, interes, tiempo)\n",
    "print(format_money_decimals(pago_total))"
   ]
  },
  {
   "cell_type": "code",
   "execution_count": 114,
   "metadata": {},
   "outputs": [],
   "source": [
    "pago_total_interes = amortizacion(monto_presente, interes, tiempo)"
   ]
  },
  {
   "cell_type": "code",
   "execution_count": 115,
   "metadata": {},
   "outputs": [
    {
     "name": "stdout",
     "output_type": "stream",
     "text": [
      "$2,092,305.60\n"
     ]
    }
   ],
   "source": [
    "pago_total_interes\n",
    "print(format_money_decimals(pago_total_interes))"
   ]
  },
  {
   "cell_type": "markdown",
   "metadata": {},
   "source": [
    "## Cambio de Tasa \n",
    "los cambios de tasa de interes es una formula que permite saber cuanto es la tasa de interes y cambiarla de Efectivo anual (EA) o Efectivo Mensual o Nominal (EM)"
   ]
  },
  {
   "cell_type": "code",
   "execution_count": 116,
   "metadata": {},
   "outputs": [],
   "source": [
    "def cambio_anual_a_mensual(interes_anual):\n",
    "    interes_mensual = (((1+(interes_anual/100))**(30/360))-1)*100\n",
    "    return interes_mensual"
   ]
  },
  {
   "cell_type": "code",
   "execution_count": 117,
   "metadata": {},
   "outputs": [],
   "source": [
    "def cambio_mensual_a_anual(interes_mensual):\n",
    "    interes_anual =(((1+(interes_mensual/100))**(360/30))-1)*100\n",
    "    return interes_anual"
   ]
  },
  {
   "cell_type": "code",
   "execution_count": 118,
   "metadata": {},
   "outputs": [
    {
     "data": {
      "text/plain": [
       "2.119585207242136"
      ]
     },
     "execution_count": 118,
     "metadata": {},
     "output_type": "execute_result"
    }
   ],
   "source": [
    "cambio_anual_a_mensual(28.62)"
   ]
  },
  {
   "cell_type": "code",
   "execution_count": 119,
   "metadata": {},
   "outputs": [
    {
     "data": {
      "text/plain": [
       "28.6187121798233"
      ]
     },
     "execution_count": 119,
     "metadata": {},
     "output_type": "execute_result"
    }
   ],
   "source": [
    "cambio_mensual_a_anual(2.1195)"
   ]
  },
  {
   "cell_type": "code",
   "execution_count": null,
   "metadata": {},
   "outputs": [],
   "source": []
  },
  {
   "cell_type": "code",
   "execution_count": null,
   "metadata": {},
   "outputs": [],
   "source": []
  },
  {
   "cell_type": "code",
   "execution_count": null,
   "metadata": {},
   "outputs": [],
   "source": []
  },
  {
   "cell_type": "code",
   "execution_count": 120,
   "metadata": {},
   "outputs": [],
   "source": [
    "monto_presente=2200000\n",
    "interes=2.12/100\n",
    "tiempo=10\n"
   ]
  },
  {
   "cell_type": "code",
   "execution_count": 121,
   "metadata": {},
   "outputs": [
    {
     "name": "stdout",
     "output_type": "stream",
     "text": [
      "preiodo\tDeuda inicial\tTasa interes\tMonto intereses\tpago Amortizacion\tPago\tDeuda final\n",
      "0\t$2,200,000.00\t2.12\t$46,640.00\t$220,000.00\t$266,640.00\t$1,980,000.00\n",
      "1\t$1,980,000.00\t2.12\t$41,976.00\t$220,000.00\t$261,976.00\t$1,760,000.00\n",
      "2\t$1,760,000.00\t2.12\t$37,312.00\t$220,000.00\t$257,312.00\t$1,540,000.00\n",
      "3\t$1,540,000.00\t2.12\t$32,648.00\t$220,000.00\t$252,648.00\t$1,320,000.00\n",
      "4\t$1,320,000.00\t2.12\t$27,984.00\t$220,000.00\t$247,984.00\t$1,100,000.00\n",
      "5\t$1,100,000.00\t2.12\t$23,320.00\t$220,000.00\t$243,320.00\t$880,000.00\n",
      "6\t$880,000.00\t2.12\t$18,656.00\t$220,000.00\t$238,656.00\t$660,000.00\n",
      "7\t$660,000.00\t2.12\t$13,992.00\t$220,000.00\t$233,992.00\t$440,000.00\n",
      "8\t$440,000.00\t2.12\t$9,328.00\t$220,000.00\t$229,328.00\t$220,000.00\n",
      "9\t$220,000.00\t2.12\t$4,664.00\t$220,000.00\t$224,664.00\t$0.00\n"
     ]
    },
    {
     "data": {
      "text/plain": [
       "256520.0"
      ]
     },
     "execution_count": 121,
     "metadata": {},
     "output_type": "execute_result"
    }
   ],
   "source": [
    "amortizacion(monto_presente, interes, tiempo, imprime=True)"
   ]
  },
  {
   "cell_type": "code",
   "execution_count": null,
   "metadata": {},
   "outputs": [],
   "source": []
  },
  {
   "cell_type": "markdown",
   "metadata": {},
   "source": [
    "## ICETEX"
   ]
  },
  {
   "cell_type": "code",
   "execution_count": null,
   "metadata": {},
   "outputs": [],
   "source": []
  },
  {
   "cell_type": "code",
   "execution_count": null,
   "metadata": {},
   "outputs": [],
   "source": []
  },
  {
   "cell_type": "code",
   "execution_count": null,
   "metadata": {},
   "outputs": [],
   "source": []
  },
  {
   "cell_type": "code",
   "execution_count": null,
   "metadata": {},
   "outputs": [],
   "source": []
  },
  {
   "cell_type": "code",
   "execution_count": null,
   "metadata": {},
   "outputs": [],
   "source": []
  },
  {
   "cell_type": "code",
   "execution_count": null,
   "metadata": {},
   "outputs": [],
   "source": []
  },
  {
   "cell_type": "code",
   "execution_count": null,
   "metadata": {},
   "outputs": [],
   "source": []
  },
  {
   "cell_type": "code",
   "execution_count": null,
   "metadata": {},
   "outputs": [],
   "source": []
  },
  {
   "cell_type": "code",
   "execution_count": null,
   "metadata": {},
   "outputs": [],
   "source": []
  },
  {
   "cell_type": "code",
   "execution_count": null,
   "metadata": {},
   "outputs": [],
   "source": []
  },
  {
   "cell_type": "code",
   "execution_count": null,
   "metadata": {},
   "outputs": [],
   "source": []
  },
  {
   "cell_type": "code",
   "execution_count": null,
   "metadata": {},
   "outputs": [],
   "source": []
  },
  {
   "cell_type": "code",
   "execution_count": null,
   "metadata": {},
   "outputs": [],
   "source": []
  },
  {
   "cell_type": "code",
   "execution_count": null,
   "metadata": {},
   "outputs": [],
   "source": []
  },
  {
   "cell_type": "code",
   "execution_count": null,
   "metadata": {},
   "outputs": [],
   "source": []
  },
  {
   "cell_type": "code",
   "execution_count": null,
   "metadata": {},
   "outputs": [],
   "source": []
  }
 ],
 "metadata": {
  "kernelspec": {
   "display_name": "Python 3",
   "language": "python",
   "name": "python3"
  },
  "language_info": {
   "codemirror_mode": {
    "name": "ipython",
    "version": 3
   },
   "file_extension": ".py",
   "mimetype": "text/x-python",
   "name": "python",
   "nbconvert_exporter": "python",
   "pygments_lexer": "ipython3",
   "version": "3.7.4"
  }
 },
 "nbformat": 4,
 "nbformat_minor": 4
}
